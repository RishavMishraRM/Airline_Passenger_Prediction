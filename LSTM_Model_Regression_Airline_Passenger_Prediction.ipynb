{
  "nbformat": 4,
  "nbformat_minor": 0,
  "metadata": {
    "colab": {
      "name": "LSTM_Model_Regression_Airline-Passenger_Prediction.ipynb",
      "provenance": [],
      "collapsed_sections": []
    },
    "kernelspec": {
      "name": "python3",
      "display_name": "Python 3"
    },
    "language_info": {
      "name": "python"
    }
  },
  "cells": [
    {
      "cell_type": "code",
      "metadata": {
        "id": "suTw9BK2kqRk"
      },
      "source": [
        "import numpy\n",
        "import matplotlib.pyplot as plt\n",
        "from pandas import read_csv\n",
        "import math\n",
        "from keras.models import Sequential\n",
        "from keras.layers import Dense\n",
        "from keras.layers import LSTM\n",
        "from sklearn.preprocessing import MinMaxScaler\n",
        "from sklearn.metrics import mean_squared_error"
      ],
      "execution_count": 1,
      "outputs": []
    },
    {
      "cell_type": "code",
      "metadata": {
        "id": "4HdPMX_RlMv5"
      },
      "source": [
        "# convert an array of values into a dataset matrix\n",
        "def create_dataset(dataset, look_back=1):\n",
        "\tdataX, dataY = [], []\n",
        "\tfor i in range(len(dataset)-look_back-1):\n",
        "\t\ta = dataset[i:(i+look_back), 0]\n",
        "\t\tdataX.append(a)\n",
        "\t\tdataY.append(dataset[i + look_back, 0])\n",
        "\treturn numpy.array(dataX), numpy.array(dataY)\n",
        "# fix random seed for reproducibility\n",
        "numpy.random.seed(7)"
      ],
      "execution_count": 2,
      "outputs": []
    },
    {
      "cell_type": "code",
      "metadata": {
        "id": "zQB5b5nFld4F"
      },
      "source": [
        "# load the dataset\n",
        "dataframe = read_csv('international-airline-passengers.csv', usecols=[1], engine='python')\n",
        "dataset = dataframe.values\n",
        "dataset = dataset.astype('float32')"
      ],
      "execution_count": 3,
      "outputs": []
    },
    {
      "cell_type": "code",
      "metadata": {
        "id": "3oQtLkBwlmv3"
      },
      "source": [
        "# normalize the dataset\n",
        "scaler = MinMaxScaler(feature_range=(0, 1))\n",
        "dataset = scaler.fit_transform(dataset)"
      ],
      "execution_count": 4,
      "outputs": []
    },
    {
      "cell_type": "code",
      "metadata": {
        "id": "egzoN2kblt-a"
      },
      "source": [
        "# split into train and test sets\n",
        "train_size = int(len(dataset) * 0.67)\n",
        "test_size = len(dataset) - train_size\n",
        "train, test = dataset[0:train_size,:], dataset[train_size:len(dataset),:]"
      ],
      "execution_count": 5,
      "outputs": []
    },
    {
      "cell_type": "code",
      "metadata": {
        "id": "jH0k5LVxnDgK"
      },
      "source": [
        "# reshape into X=t and Y=t+1\n",
        "look_back = 3\n",
        "trainX, trainY = create_dataset(train, look_back)\n",
        "testX, testY = create_dataset(test, look_back)"
      ],
      "execution_count": 6,
      "outputs": []
    },
    {
      "cell_type": "code",
      "metadata": {
        "id": "jty693W9nGXk"
      },
      "source": [
        "# reshape input to be [samples, time steps, features]\n",
        "trainX = numpy.reshape(trainX, (trainX.shape[0], 1, trainX.shape[1]))\n",
        "testX = numpy.reshape(testX, (testX.shape[0], 1, testX.shape[1]))"
      ],
      "execution_count": 7,
      "outputs": []
    },
    {
      "cell_type": "code",
      "metadata": {
        "colab": {
          "base_uri": "https://localhost:8080/"
        },
        "id": "oD2T_DspnKF8",
        "outputId": "0bfa439f-c692-4515-f306-df95c02eef74"
      },
      "source": [
        "# create and fit the LSTM network\n",
        "model = Sequential()\n",
        "model.add(LSTM(4, input_shape=(1, look_back)))\n",
        "model.add(Dense(1))\n",
        "model.compile(loss='mean_squared_error', optimizer='adam')\n",
        "model.fit(trainX, trainY, epochs=100, batch_size=1, verbose=2)"
      ],
      "execution_count": 8,
      "outputs": [
        {
          "output_type": "stream",
          "text": [
            "Epoch 1/100\n",
            "93/93 - 2s - loss: 0.0297\n",
            "Epoch 2/100\n",
            "93/93 - 0s - loss: 0.0126\n",
            "Epoch 3/100\n",
            "93/93 - 0s - loss: 0.0093\n",
            "Epoch 4/100\n",
            "93/93 - 0s - loss: 0.0080\n",
            "Epoch 5/100\n",
            "93/93 - 0s - loss: 0.0069\n",
            "Epoch 6/100\n",
            "93/93 - 0s - loss: 0.0059\n",
            "Epoch 7/100\n",
            "93/93 - 0s - loss: 0.0052\n",
            "Epoch 8/100\n",
            "93/93 - 0s - loss: 0.0050\n",
            "Epoch 9/100\n",
            "93/93 - 0s - loss: 0.0044\n",
            "Epoch 10/100\n",
            "93/93 - 0s - loss: 0.0041\n",
            "Epoch 11/100\n",
            "93/93 - 0s - loss: 0.0039\n",
            "Epoch 12/100\n",
            "93/93 - 0s - loss: 0.0038\n",
            "Epoch 13/100\n",
            "93/93 - 0s - loss: 0.0036\n",
            "Epoch 14/100\n",
            "93/93 - 0s - loss: 0.0036\n",
            "Epoch 15/100\n",
            "93/93 - 0s - loss: 0.0036\n",
            "Epoch 16/100\n",
            "93/93 - 0s - loss: 0.0036\n",
            "Epoch 17/100\n",
            "93/93 - 0s - loss: 0.0034\n",
            "Epoch 18/100\n",
            "93/93 - 0s - loss: 0.0035\n",
            "Epoch 19/100\n",
            "93/93 - 0s - loss: 0.0035\n",
            "Epoch 20/100\n",
            "93/93 - 0s - loss: 0.0034\n",
            "Epoch 21/100\n",
            "93/93 - 0s - loss: 0.0034\n",
            "Epoch 22/100\n",
            "93/93 - 0s - loss: 0.0034\n",
            "Epoch 23/100\n",
            "93/93 - 0s - loss: 0.0035\n",
            "Epoch 24/100\n",
            "93/93 - 0s - loss: 0.0032\n",
            "Epoch 25/100\n",
            "93/93 - 0s - loss: 0.0032\n",
            "Epoch 26/100\n",
            "93/93 - 0s - loss: 0.0032\n",
            "Epoch 27/100\n",
            "93/93 - 0s - loss: 0.0032\n",
            "Epoch 28/100\n",
            "93/93 - 0s - loss: 0.0031\n",
            "Epoch 29/100\n",
            "93/93 - 0s - loss: 0.0031\n",
            "Epoch 30/100\n",
            "93/93 - 0s - loss: 0.0031\n",
            "Epoch 31/100\n",
            "93/93 - 0s - loss: 0.0030\n",
            "Epoch 32/100\n",
            "93/93 - 0s - loss: 0.0029\n",
            "Epoch 33/100\n",
            "93/93 - 0s - loss: 0.0030\n",
            "Epoch 34/100\n",
            "93/93 - 0s - loss: 0.0029\n",
            "Epoch 35/100\n",
            "93/93 - 0s - loss: 0.0030\n",
            "Epoch 36/100\n",
            "93/93 - 0s - loss: 0.0030\n",
            "Epoch 37/100\n",
            "93/93 - 0s - loss: 0.0029\n",
            "Epoch 38/100\n",
            "93/93 - 0s - loss: 0.0027\n",
            "Epoch 39/100\n",
            "93/93 - 0s - loss: 0.0028\n",
            "Epoch 40/100\n",
            "93/93 - 0s - loss: 0.0027\n",
            "Epoch 41/100\n",
            "93/93 - 0s - loss: 0.0026\n",
            "Epoch 42/100\n",
            "93/93 - 0s - loss: 0.0027\n",
            "Epoch 43/100\n",
            "93/93 - 0s - loss: 0.0026\n",
            "Epoch 44/100\n",
            "93/93 - 0s - loss: 0.0027\n",
            "Epoch 45/100\n",
            "93/93 - 0s - loss: 0.0026\n",
            "Epoch 46/100\n",
            "93/93 - 0s - loss: 0.0026\n",
            "Epoch 47/100\n",
            "93/93 - 0s - loss: 0.0024\n",
            "Epoch 48/100\n",
            "93/93 - 0s - loss: 0.0024\n",
            "Epoch 49/100\n",
            "93/93 - 0s - loss: 0.0024\n",
            "Epoch 50/100\n",
            "93/93 - 0s - loss: 0.0025\n",
            "Epoch 51/100\n",
            "93/93 - 0s - loss: 0.0023\n",
            "Epoch 52/100\n",
            "93/93 - 0s - loss: 0.0023\n",
            "Epoch 53/100\n",
            "93/93 - 0s - loss: 0.0024\n",
            "Epoch 54/100\n",
            "93/93 - 0s - loss: 0.0024\n",
            "Epoch 55/100\n",
            "93/93 - 0s - loss: 0.0023\n",
            "Epoch 56/100\n",
            "93/93 - 0s - loss: 0.0023\n",
            "Epoch 57/100\n",
            "93/93 - 0s - loss: 0.0023\n",
            "Epoch 58/100\n",
            "93/93 - 0s - loss: 0.0023\n",
            "Epoch 59/100\n",
            "93/93 - 0s - loss: 0.0022\n",
            "Epoch 60/100\n",
            "93/93 - 0s - loss: 0.0022\n",
            "Epoch 61/100\n",
            "93/93 - 0s - loss: 0.0023\n",
            "Epoch 62/100\n",
            "93/93 - 0s - loss: 0.0022\n",
            "Epoch 63/100\n",
            "93/93 - 0s - loss: 0.0022\n",
            "Epoch 64/100\n",
            "93/93 - 0s - loss: 0.0022\n",
            "Epoch 65/100\n",
            "93/93 - 0s - loss: 0.0022\n",
            "Epoch 66/100\n",
            "93/93 - 0s - loss: 0.0022\n",
            "Epoch 67/100\n",
            "93/93 - 0s - loss: 0.0022\n",
            "Epoch 68/100\n",
            "93/93 - 0s - loss: 0.0022\n",
            "Epoch 69/100\n",
            "93/93 - 0s - loss: 0.0022\n",
            "Epoch 70/100\n",
            "93/93 - 0s - loss: 0.0021\n",
            "Epoch 71/100\n",
            "93/93 - 0s - loss: 0.0022\n",
            "Epoch 72/100\n",
            "93/93 - 0s - loss: 0.0022\n",
            "Epoch 73/100\n",
            "93/93 - 0s - loss: 0.0023\n",
            "Epoch 74/100\n",
            "93/93 - 0s - loss: 0.0021\n",
            "Epoch 75/100\n",
            "93/93 - 0s - loss: 0.0022\n",
            "Epoch 76/100\n",
            "93/93 - 0s - loss: 0.0021\n",
            "Epoch 77/100\n",
            "93/93 - 0s - loss: 0.0021\n",
            "Epoch 78/100\n",
            "93/93 - 0s - loss: 0.0021\n",
            "Epoch 79/100\n",
            "93/93 - 0s - loss: 0.0021\n",
            "Epoch 80/100\n",
            "93/93 - 0s - loss: 0.0022\n",
            "Epoch 81/100\n",
            "93/93 - 0s - loss: 0.0021\n",
            "Epoch 82/100\n",
            "93/93 - 0s - loss: 0.0020\n",
            "Epoch 83/100\n",
            "93/93 - 0s - loss: 0.0021\n",
            "Epoch 84/100\n",
            "93/93 - 0s - loss: 0.0021\n",
            "Epoch 85/100\n",
            "93/93 - 0s - loss: 0.0021\n",
            "Epoch 86/100\n",
            "93/93 - 0s - loss: 0.0022\n",
            "Epoch 87/100\n",
            "93/93 - 0s - loss: 0.0021\n",
            "Epoch 88/100\n",
            "93/93 - 0s - loss: 0.0023\n",
            "Epoch 89/100\n",
            "93/93 - 0s - loss: 0.0022\n",
            "Epoch 90/100\n",
            "93/93 - 0s - loss: 0.0021\n",
            "Epoch 91/100\n",
            "93/93 - 0s - loss: 0.0022\n",
            "Epoch 92/100\n",
            "93/93 - 0s - loss: 0.0021\n",
            "Epoch 93/100\n",
            "93/93 - 0s - loss: 0.0020\n",
            "Epoch 94/100\n",
            "93/93 - 0s - loss: 0.0020\n",
            "Epoch 95/100\n",
            "93/93 - 0s - loss: 0.0021\n",
            "Epoch 96/100\n",
            "93/93 - 0s - loss: 0.0020\n",
            "Epoch 97/100\n",
            "93/93 - 0s - loss: 0.0021\n",
            "Epoch 98/100\n",
            "93/93 - 0s - loss: 0.0020\n",
            "Epoch 99/100\n",
            "93/93 - 0s - loss: 0.0021\n",
            "Epoch 100/100\n",
            "93/93 - 0s - loss: 0.0021\n"
          ],
          "name": "stdout"
        },
        {
          "output_type": "execute_result",
          "data": {
            "text/plain": [
              "<tensorflow.python.keras.callbacks.History at 0x7fd07ce0e690>"
            ]
          },
          "metadata": {
            "tags": []
          },
          "execution_count": 8
        }
      ]
    },
    {
      "cell_type": "code",
      "metadata": {
        "id": "CFZLrAIdnM78"
      },
      "source": [
        "# make predictions\n",
        "trainPredict = model.predict(trainX)\n",
        "testPredict = model.predict(testX)"
      ],
      "execution_count": 9,
      "outputs": []
    },
    {
      "cell_type": "code",
      "metadata": {
        "id": "-MkgTfinnQwi"
      },
      "source": [
        "# invert predictions\n",
        "trainPredict = scaler.inverse_transform(trainPredict)\n",
        "trainY = scaler.inverse_transform([trainY])\n",
        "testPredict = scaler.inverse_transform(testPredict)\n",
        "testY = scaler.inverse_transform([testY])"
      ],
      "execution_count": 10,
      "outputs": []
    },
    {
      "cell_type": "code",
      "metadata": {
        "colab": {
          "base_uri": "https://localhost:8080/"
        },
        "id": "YEpRU5bInVYV",
        "outputId": "29ed00e2-c8f5-4150-90e6-4962d54dec0d"
      },
      "source": [
        "# calculate root mean squared error\n",
        "trainScore = math.sqrt(mean_squared_error(trainY[0], trainPredict[:,0]))\n",
        "print('Train Score: %.2f RMSE' % (trainScore))\n",
        "testScore = math.sqrt(mean_squared_error(testY[0], testPredict[:,0]))\n",
        "print('Test Score: %.2f RMSE' % (testScore))"
      ],
      "execution_count": 11,
      "outputs": [
        {
          "output_type": "stream",
          "text": [
            "Train Score: 22.63 RMSE\n",
            "Test Score: 68.28 RMSE\n"
          ],
          "name": "stdout"
        }
      ]
    },
    {
      "cell_type": "code",
      "metadata": {
        "id": "Bcp1aBatnYKY"
      },
      "source": [
        "# shift train predictions for plotting\n",
        "trainPredictPlot = numpy.empty_like(dataset)\n",
        "trainPredictPlot[:, :] = numpy.nan\n",
        "trainPredictPlot[look_back:len(trainPredict)+look_back, :] = trainPredict"
      ],
      "execution_count": 12,
      "outputs": []
    },
    {
      "cell_type": "code",
      "metadata": {
        "id": "SR0lHbDhnbsZ"
      },
      "source": [
        "# shift test predictions for plotting\n",
        "testPredictPlot = numpy.empty_like(dataset)\n",
        "testPredictPlot[:, :] = numpy.nan\n",
        "testPredictPlot[len(trainPredict)+(look_back*2)+1:len(dataset)-1, :] = testPredict"
      ],
      "execution_count": 13,
      "outputs": []
    },
    {
      "cell_type": "code",
      "metadata": {
        "colab": {
          "base_uri": "https://localhost:8080/",
          "height": 295
        },
        "id": "lA8L-M1dnfSd",
        "outputId": "f5c3009b-277a-4760-8aa5-76cda725d90b"
      },
      "source": [
        "# plot baseline and predictions\n",
        "plt.title(\"Pattern Predicting Future Values of Airlines\")\n",
        "plt.xlabel('Months')\n",
        "plt.ylabel(\"International airline passengers\")\n",
        "plt.plot(scaler.inverse_transform(dataset))\n",
        "plt.plot(trainPredictPlot)\n",
        "plt.plot(testPredictPlot)\n",
        "plt.show()"
      ],
      "execution_count": 14,
      "outputs": [
        {
          "output_type": "display_data",
          "data": {
            "image/png": "[encoded data removed]",
            "text/plain": [
              "<Figure size 432x288 with 1 Axes>"
            ]
          },
          "metadata": {
            "tags": [],
            "needs_background": "light"
          }
        }
      ]
    },
    {
      "cell_type": "code",
      "metadata": {
        "id": "fSePwq_rniBa"
      },
      "source": [
        ""
      ],
      "execution_count": 14,
      "outputs": []
    }
  ]
}